{
  "cells": [
    {
      "cell_type": "markdown",
      "metadata": {
        "id": "UWeOAxQY5bip"
      },
      "source": [
        "# **Практика 3: Атака Carlini-Wagner (CW) на модели ИИ**\n",
        "Выполнил студент группы ББМО-01-23 Бакин Д.И."
      ]
    },
    {
      "cell_type": "markdown",
      "metadata": {
        "id": "FKl06fC8MqgR"
      },
      "source": [
        "# Цель задания:\n",
        "Изучить одну из наиболее мощных атак на модели ИИ — атаку Carlini-Wagner (CW). Задача — научиться использовать CW для создания противоречивых примеров и исследовать влияние этой атаки на обученные модели."
      ]
    },
    {
      "cell_type": "markdown",
      "metadata": {
        "id": "1zIAARDX5bir"
      },
      "source": [
        "# Задачи:\n",
        "1. Загрузить ранее обученную модель на датасете MNIST.\n",
        "2. Изучить теоретические основы атаки Carlini-Wagner.\n",
        "3. Реализовать атаку CW с помощью фреймворка Foolbox.\n",
        "4. Оценить точность модели на противоречивых примерах и сравнить с результатами на обычных данных."
      ]
    },
    {
      "cell_type": "markdown",
      "metadata": {
        "id": "Qwbz3-lJ5bis"
      },
      "source": [
        "# Шаги выполнения:"
      ]
    },
    {
      "cell_type": "markdown",
      "metadata": {
        "id": "84fkqS3g5bis"
      },
      "source": [
        "## 1. Загрузка обученной модели и данных MNIST:\n",
        "Мы начнем с загрузки уже обученной модели и данных MNIST для их использования в атаке"
      ]
    },
    {
      "cell_type": "code",
      "execution_count": 1,
      "metadata": {
        "colab": {
          "base_uri": "https://localhost:8080/"
        },
        "id": "Gt1lcHHdM2Qq",
        "outputId": "315a9117-0f9d-4306-8539-db1b4d823034"
      },
      "outputs": [
        {
          "output_type": "stream",
          "name": "stdout",
          "text": [
            "Downloading data from https://storage.googleapis.com/tensorflow/tf-keras-datasets/mnist.npz\n",
            "\u001b[1m11490434/11490434\u001b[0m \u001b[32m━━━━━━━━━━━━━━━━━━━━\u001b[0m\u001b[37m\u001b[0m \u001b[1m0s\u001b[0m 0us/step\n"
          ]
        },
        {
          "output_type": "stream",
          "name": "stderr",
          "text": [
            "WARNING:absl:Compiled the loaded model, but the compiled metrics have yet to be built. `model.compile_metrics` will be empty until you train or evaluate the model.\n"
          ]
        },
        {
          "output_type": "stream",
          "name": "stdout",
          "text": [
            "\u001b[1m313/313\u001b[0m \u001b[32m━━━━━━━━━━━━━━━━━━━━\u001b[0m\u001b[37m\u001b[0m \u001b[1m3s\u001b[0m 4ms/step - accuracy: 0.9715 - loss: 0.0998\n",
            "Test accuracy on clean images: 0.9754999876022339\n"
          ]
        }
      ],
      "source": [
        "import tensorflow as tf\n",
        "from tensorflow.keras.datasets import mnist\n",
        "# Загрузка тестовых данных MNIST\n",
        "(_, _), (test_images, test_labels) = mnist.load_data()\n",
        "# Нормализация данных\n",
        "test_images = test_images / 255.0\n",
        "test_labels = tf.keras.utils.to_categorical(test_labels, 10)\n",
        "# Загрузка обученной модели\n",
        "model = tf.keras.models.load_model('/content/mnist_model.h5')\n",
        "# Проверка точности модели на обычных данных\n",
        "test_loss, test_acc = model.evaluate(test_images, test_labels)\n",
        "print(f'Test accuracy on clean images: {test_acc}')"
      ]
    },
    {
      "cell_type": "markdown",
      "metadata": {
        "id": "jJsiCu2_NCS_"
      },
      "source": [
        "## 3. Установка Foolbox и запуск CW-атаки\n",
        "Для реализации атаки Carlini-Wagner будем использовать фреймворк Foolbox, который предоставляет удобные методы для выполнения различных атак на модели ИИ."
      ]
    },
    {
      "cell_type": "code",
      "execution_count": 2,
      "metadata": {
        "colab": {
          "base_uri": "https://localhost:8080/"
        },
        "id": "lLuiTyrdd_1I",
        "outputId": "8b4bf56b-3af1-4d1e-ec4e-d60dbc1fcc2a"
      },
      "outputs": [
        {
          "output_type": "stream",
          "name": "stdout",
          "text": [
            "Collecting foolbox\n",
            "  Downloading foolbox-3.3.4-py3-none-any.whl.metadata (7.3 kB)\n",
            "Requirement already satisfied: numpy in /usr/local/lib/python3.10/dist-packages (from foolbox) (1.26.4)\n",
            "Requirement already satisfied: scipy in /usr/local/lib/python3.10/dist-packages (from foolbox) (1.13.1)\n",
            "Requirement already satisfied: setuptools in /usr/local/lib/python3.10/dist-packages (from foolbox) (75.1.0)\n",
            "Collecting eagerpy>=0.30.0 (from foolbox)\n",
            "  Downloading eagerpy-0.30.0-py3-none-any.whl.metadata (5.5 kB)\n",
            "Requirement already satisfied: GitPython>=3.0.7 in /usr/local/lib/python3.10/dist-packages (from foolbox) (3.1.43)\n",
            "Requirement already satisfied: typing-extensions>=3.7.4.1 in /usr/local/lib/python3.10/dist-packages (from foolbox) (4.12.2)\n",
            "Requirement already satisfied: requests>=2.24.0 in /usr/local/lib/python3.10/dist-packages (from foolbox) (2.32.3)\n",
            "Requirement already satisfied: gitdb<5,>=4.0.1 in /usr/local/lib/python3.10/dist-packages (from GitPython>=3.0.7->foolbox) (4.0.11)\n",
            "Requirement already satisfied: charset-normalizer<4,>=2 in /usr/local/lib/python3.10/dist-packages (from requests>=2.24.0->foolbox) (3.4.0)\n",
            "Requirement already satisfied: idna<4,>=2.5 in /usr/local/lib/python3.10/dist-packages (from requests>=2.24.0->foolbox) (3.10)\n",
            "Requirement already satisfied: urllib3<3,>=1.21.1 in /usr/local/lib/python3.10/dist-packages (from requests>=2.24.0->foolbox) (2.2.3)\n",
            "Requirement already satisfied: certifi>=2017.4.17 in /usr/local/lib/python3.10/dist-packages (from requests>=2.24.0->foolbox) (2024.8.30)\n",
            "Requirement already satisfied: smmap<6,>=3.0.1 in /usr/local/lib/python3.10/dist-packages (from gitdb<5,>=4.0.1->GitPython>=3.0.7->foolbox) (5.0.1)\n",
            "Downloading foolbox-3.3.4-py3-none-any.whl (1.7 MB)\n",
            "\u001b[2K   \u001b[90m━━━━━━━━━━━━━━━━━━━━━━━━━━━━━━━━━━━━━━━━\u001b[0m \u001b[32m1.7/1.7 MB\u001b[0m \u001b[31m26.1 MB/s\u001b[0m eta \u001b[36m0:00:00\u001b[0m\n",
            "\u001b[?25hDownloading eagerpy-0.30.0-py3-none-any.whl (31 kB)\n",
            "Installing collected packages: eagerpy, foolbox\n",
            "Successfully installed eagerpy-0.30.0 foolbox-3.3.4\n"
          ]
        }
      ],
      "source": [
        "!pip install foolbox"
      ]
    },
    {
      "cell_type": "code",
      "execution_count": null,
      "metadata": {
        "colab": {
          "base_uri": "https://localhost:8080/",
          "height": 429
        },
        "id": "ySy0YHHJNWwo",
        "outputId": "2251eb53-5275-495b-fe73-e3aa0237359a"
      },
      "outputs": [
        {
          "name": "stdout",
          "output_type": "stream",
          "text": [
            "tf.Tensor(7, shape=(), dtype=int64)\n"
          ]
        },
        {
          "data": {
            "image/png": "[encoded data removed]",
            "text/plain": [
              "<Figure size 1000x500 with 2 Axes>"
            ]
          },
          "metadata": {},
          "output_type": "display_data"
        }
      ],
      "source": [
        "import foolbox as fb\n",
        "import numpy as np\n",
        "# Инициализация Foolbox модели\n",
        "fmodel = fb.TensorFlowModel(model, bounds=(-1, 1))\n",
        "\n",
        "# Выбор изображения для атаки (например, первое изображение из тестового набора)\n",
        "image = tf.convert_to_tensor(test_images[0], dtype=tf.float32)[None, ...]  # Добавляем размерность для батча\n",
        "label = np.argmax(test_labels[0])  # Получаем индекс класса\n",
        "label = tf.convert_to_tensor(label, dtype=tf.int64)  # Преобразуем в тензор\n",
        "# Выполнение атаки\n",
        "advs, _, success = attack(fmodel, image, label[None], epsilons=0.01)\n",
        "# Вывод результатов\n",
        "import matplotlib.pyplot as plt\n",
        "plt.figure()\n",
        "plt.subplot(1, 2, 1)\n",
        "plt.title(\"Оригинальное изображение\")\n",
        "plt.imshow(image, cmap=\"gray\")\n",
        "plt.subplot(1, 2, 2)\n",
        "plt.title(\"Противоречивое изображение (CW Attack)\")\n",
        "plt.imshow(advs[0].numpy(), cmap=\"gray\")\n",
        "plt.show()"
      ]
    },
    {
      "cell_type": "markdown",
      "metadata": {
        "id": "6Akot1nnZck6"
      },
      "source": [
        "## 4. Оценка модели на противоречивых примерах:\n",
        "\n",
        "После того, как мы сгенерировали противоречивые примеры, мы можем оценить, насколько атака Carlini-Wagner влияет на производительность модели."
      ]
    },
    {
      "cell_type": "code",
      "execution_count": null,
      "metadata": {
        "colab": {
          "base_uri": "https://localhost:8080/"
        },
        "id": "LGP6uDGAZvJX",
        "outputId": "6030dc4c-c571-48bf-b0ce-54135725dcf2"
      },
      "outputs": [
        {
          "name": "stdout",
          "output_type": "stream",
          "text": [
            "\u001b[1m313/313\u001b[0m \u001b[32m━━━━━━━━━━━━━━━━━━━━\u001b[0m\u001b[37m\u001b[0m \u001b[1m1s\u001b[0m 2ms/step - accuracy: 0.0720 - loss: 2.2640\n",
            "Accuracy on adversarial examples (CW attack): 0.07280000299215317\n"
          ]
        }
      ],
      "source": [
        "# Создание набора противоречивых примеров для всего тестового набора\n",
        "adversarial_images = []\n",
        "for i in range(len(test_images)):\n",
        " adv_image = attack(fmodel, test_images[i].reshape(1, 28, 28, 1),\n",
        "test_labels[i], epsilons=[0.1])\n",
        " adversarial_images.append(adv_image)\n",
        "adversarial_images = np.array(adversarial_images).reshape(len(test_images),\n",
        "28, 28)\n",
        "# Оценка точности модели на противоречивых примерах\n",
        "adversarial_loss, adversarial_acc = model.evaluate(adversarial_images,\n",
        "test_labels)\n",
        "print(f'Accuracy on adversarial examples (CW attack): {adversarial_acc}')"
      ]
    },
    {
      "cell_type": "markdown",
      "metadata": {
        "id": "cq9s_3FMEsj3"
      },
      "source": [
        "## 5. Сравнение результатов:\n",
        "Мы предполагаем, что точность модели при обработке противоречивых образцов, полученных через атаку Carlini-Wagner, будет значительно ниже, чем при работе с обычными изображениями. Это продемонстрирует уязвимость искусственного интеллекта к подобным воздействиям. Результаты показали, что точность модели на атакованных данных значительно упала и составляет около 0% (особенно в сравнении с точностью на исходных примерах), что зависит от силы и шагов атаки.\n",
        "\n",
        "Такое серьезное снижение точности указывает на то, что модель не в состоянии адекватно распознавать объекты в условиях незначительных, но целенаправленных искажений. Это подчеркивает необходимость разработки более устойчивых моделей и внедрения защитных мер, чтобы повысить надежность систем."
      ]
    }
  ],
  "metadata": {
    "accelerator": "GPU",
    "colab": {
      "gpuType": "T4",
      "provenance": []
    },
    "kernelspec": {
      "display_name": "Python 3",
      "name": "python3"
    },
    "language_info": {
      "name": "python"
    }
  },
  "nbformat": 4,
  "nbformat_minor": 0
}