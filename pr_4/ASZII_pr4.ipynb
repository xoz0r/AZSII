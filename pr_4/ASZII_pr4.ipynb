{
  "nbformat": 4,
  "nbformat_minor": 0,
  "metadata": {
    "colab": {
      "provenance": []
    },
    "kernelspec": {
      "name": "python3",
      "display_name": "Python 3"
    },
    "language_info": {
      "name": "python"
    }
  },
  "cells": [
    {
      "cell_type": "markdown",
      "source": [
        "# **Практика 4: Атака DeepFool на модели ИИ**\n",
        "Выполнил студент группы ББМО-01-23 Бакин Д.И."
      ],
      "metadata": {
        "id": "ZrKjUWLZ-LQG"
      }
    },
    {
      "cell_type": "markdown",
      "source": [
        "**Цель задания:**\n",
        "\n",
        "Изучить атаку DeepFool, которая предназначена для минимальных изменений в изображениях с\n",
        "целью изменения их классификации. Научиться использовать эту атаку и исследовать влияние противоречивых примеров на обученные модели.\n",
        "\n",
        "**Задачи:**\n",
        "\n",
        "1. Загрузить ранее обученную модель на датасете MNIST.\n",
        "2. Изучить теоретические основы атаки DeepFool.\n",
        "3. Реализовать атаку DeepFool с помощью фреймворка Foolbox.\n",
        "4. Оценить точность модели на противоречивых примерах и сравнить с результатами на обычных данных.\n"
      ],
      "metadata": {
        "id": "MtsyAkOX-Snu"
      }
    },
    {
      "cell_type": "markdown",
      "source": [
        "# **Шаги выполнения:**\n",
        "## **Шаг 1: Загрузка обученной модели и данных MNIST**\n",
        "Мы начнем с загрузки обученной модели и данных MNIST, которые будем спользовать для проведения атаки.\n"
      ],
      "metadata": {
        "id": "f4thjE_h-jl-"
      }
    },
    {
      "cell_type": "code",
      "source": [
        "import tensorflow as tf\n",
        "from tensorflow.keras.datasets import mnist\n",
        "# Загрузка тестовых данных MNIST\n",
        "(_, _), (test_images, test_labels) = mnist.load_data()\n",
        "# Нормализация данных\n",
        "test_images = test_images / 255.0\n",
        "test_labels = tf.keras.utils.to_categorical(test_labels, 10)\n",
        "# Загрузка обученной модели\n",
        "model = tf.keras.models.load_model('/content/mnist_model.h5')\n",
        "# Проверка точности модели на обычных данных\n",
        "test_loss, test_acc = model.evaluate(test_images, test_labels)\n",
        "print(f'Test accuracy on clean images: {test_acc}')\n"
      ],
      "metadata": {
        "colab": {
          "base_uri": "https://localhost:8080/"
        },
        "id": "hMRhowcw-yB-",
        "outputId": "58f73f57-aa05-424e-e4b3-89d22afce5a9"
      },
      "execution_count": 4,
      "outputs": [
        {
          "output_type": "stream",
          "name": "stderr",
          "text": [
            "WARNING:absl:Compiled the loaded model, but the compiled metrics have yet to be built. `model.compile_metrics` will be empty until you train or evaluate the model.\n"
          ]
        },
        {
          "output_type": "stream",
          "name": "stdout",
          "text": [
            "\u001b[1m313/313\u001b[0m \u001b[32m━━━━━━━━━━━━━━━━━━━━\u001b[0m\u001b[37m\u001b[0m \u001b[1m1s\u001b[0m 2ms/step - accuracy: 0.9715 - loss: 0.0998\n",
            "Test accuracy on clean images: 0.9754999876022339\n"
          ]
        }
      ]
    },
    {
      "cell_type": "markdown",
      "source": [
        "## **Шаг 2: Теория атаки DeepFool**\n",
        "Атака DeepFool — это метод, который был разработан для минимального изменения изображений с\n",
        "целью заставить классификационную модель ошибиться. В отличие от других атак, таких как FGSM,\n",
        "DeepFool находит минимальные изменения в пространстве признаков, которые достаточны для\n",
        "изменения предсказания модели. Это делает DeepFool более эффективной в создании\n",
        "противоречивых примеров с минимальным изменением входных данных."
      ],
      "metadata": {
        "id": "50xoOIak_88E"
      }
    },
    {
      "cell_type": "markdown",
      "source": [
        "## **Шаг 3: Реализация атаки DeepFool с использованием Foolbox**\n",
        "Для выполнения атаки DeepFool мы будем использовать библиотеку Foolbox, которая поддерживает\n",
        "различные атаки на модели ИИ, включая DeepFool."
      ],
      "metadata": {
        "id": "Vxl_WSQhABl9"
      }
    },
    {
      "cell_type": "code",
      "source": [
        "# Установка Foolbox:\n",
        "!pip install foolbox"
      ],
      "metadata": {
        "colab": {
          "base_uri": "https://localhost:8080/"
        },
        "id": "mQDMOY-qAdjy",
        "outputId": "be0c1f2f-9f5b-4e38-dc69-5dfbcc0bf14f"
      },
      "execution_count": 5,
      "outputs": [
        {
          "output_type": "stream",
          "name": "stdout",
          "text": [
            "Collecting foolbox\n",
            "  Downloading foolbox-3.3.4-py3-none-any.whl.metadata (7.3 kB)\n",
            "Requirement already satisfied: numpy in /usr/local/lib/python3.10/dist-packages (from foolbox) (1.26.4)\n",
            "Requirement already satisfied: scipy in /usr/local/lib/python3.10/dist-packages (from foolbox) (1.13.1)\n",
            "Requirement already satisfied: setuptools in /usr/local/lib/python3.10/dist-packages (from foolbox) (75.1.0)\n",
            "Collecting eagerpy>=0.30.0 (from foolbox)\n",
            "  Downloading eagerpy-0.30.0-py3-none-any.whl.metadata (5.5 kB)\n",
            "Requirement already satisfied: GitPython>=3.0.7 in /usr/local/lib/python3.10/dist-packages (from foolbox) (3.1.43)\n",
            "Requirement already satisfied: typing-extensions>=3.7.4.1 in /usr/local/lib/python3.10/dist-packages (from foolbox) (4.12.2)\n",
            "Requirement already satisfied: requests>=2.24.0 in /usr/local/lib/python3.10/dist-packages (from foolbox) (2.32.3)\n",
            "Requirement already satisfied: gitdb<5,>=4.0.1 in /usr/local/lib/python3.10/dist-packages (from GitPython>=3.0.7->foolbox) (4.0.11)\n",
            "Requirement already satisfied: charset-normalizer<4,>=2 in /usr/local/lib/python3.10/dist-packages (from requests>=2.24.0->foolbox) (3.4.0)\n",
            "Requirement already satisfied: idna<4,>=2.5 in /usr/local/lib/python3.10/dist-packages (from requests>=2.24.0->foolbox) (3.10)\n",
            "Requirement already satisfied: urllib3<3,>=1.21.1 in /usr/local/lib/python3.10/dist-packages (from requests>=2.24.0->foolbox) (2.2.3)\n",
            "Requirement already satisfied: certifi>=2017.4.17 in /usr/local/lib/python3.10/dist-packages (from requests>=2.24.0->foolbox) (2024.8.30)\n",
            "Requirement already satisfied: smmap<6,>=3.0.1 in /usr/local/lib/python3.10/dist-packages (from gitdb<5,>=4.0.1->GitPython>=3.0.7->foolbox) (5.0.1)\n",
            "Downloading foolbox-3.3.4-py3-none-any.whl (1.7 MB)\n",
            "\u001b[2K   \u001b[90m━━━━━━━━━━━━━━━━━━━━━━━━━━━━━━━━━━━━━━━━\u001b[0m \u001b[32m1.7/1.7 MB\u001b[0m \u001b[31m17.4 MB/s\u001b[0m eta \u001b[36m0:00:00\u001b[0m\n",
            "\u001b[?25hDownloading eagerpy-0.30.0-py3-none-any.whl (31 kB)\n",
            "Installing collected packages: eagerpy, foolbox\n",
            "Successfully installed eagerpy-0.30.0 foolbox-3.3.4\n"
          ]
        }
      ]
    },
    {
      "cell_type": "code",
      "source": [
        "# Реализация атаки DeepFool:\n",
        "import foolbox as fb\n",
        "import numpy as np\n",
        "import matplotlib.pyplot as plt\n",
        "import tensorflow as tf\n",
        "# Инициализация Foolbox модели\n",
        "fmodel = fb.TensorFlowModel(model, bounds=(-1, 1))\n",
        "# Создание атаки DeepFool\n",
        "attack = fb.attacks.L2DeepFoolAttack(steps=10)\n",
        "# Создание подграфиков для отображения результатов\n",
        "plt.figure(figsize=(10, 5))\n",
        "# Выбор изображения для атаки\n",
        "image = tf.convert_to_tensor(test_images[1], dtype=tf.float32)[None, ...]\n",
        "label = np.argmax(test_labels[1])\n",
        "label = tf.convert_to_tensor(label, dtype=tf.int64)\n",
        "# Выполнение атаки\n",
        "adversarial_image, _, success = attack(fmodel, image, label[None], epsilons=0.01)\n",
        "# Отображение оригинального и противоречивого изображений\n",
        "plt.subplot(2, 1, 1)\n",
        "plt.title(f\"Оригинальное изображение\")\n",
        "plt.imshow(image[0].numpy(), cmap=\"gray\")\n",
        "plt.subplot(2, 1, 2)\n",
        "plt.title(f\"Противоречивое изображение\")\n",
        "plt.imshow(adversarial_image[0].numpy(), cmap=\"gray\")\n",
        "plt.axis('off')\n",
        "plt.tight_layout()\n",
        "plt.show()\n"
      ],
      "metadata": {
        "colab": {
          "base_uri": "https://localhost:8080/",
          "height": 507
        },
        "id": "SIt4athqBImr",
        "outputId": "829915d7-57de-4c0a-ac7a-a9cd718f283d"
      },
      "execution_count": 58,
      "outputs": [
        {
          "output_type": "display_data",
          "data": {
            "text/plain": [
              "<Figure size 1000x500 with 2 Axes>"
            ],
            "image/png": "[encoded data removed]"
          },
          "metadata": {}
        }
      ]
    },
    {
      "cell_type": "code",
      "source": [
        "\n",
        "adversarial_images = []\n",
        "for i in range(len(test_images)):\n",
        "    image = tf.convert_to_tensor(test_images[i], dtype=tf.float32)[None, ...]\n",
        "    label = np.argmax(test_labels[i])\n",
        "    label = tf.convert_to_tensor(label, dtype=tf.int64)\n",
        "    adversarial_images.append(advs)\n",
        "adversarial_images = tf.concat(adversarial_images, axis=0)\n",
        "adversarial_loss, adversarial_acc = model.evaluate(adversarial_images, test_labels)\n",
        "print(f'Accuracy on adversarial examples (DeepFool): {adversarial_acc}')"
      ],
      "metadata": {
        "colab": {
          "base_uri": "https://localhost:8080/"
        },
        "id": "O5ws73OHOzwb",
        "outputId": "5cbc87f3-519d-4717-b5d6-7ff8bebdb5bb"
      },
      "execution_count": 61,
      "outputs": [
        {
          "output_type": "stream",
          "name": "stdout",
          "text": [
            "\u001b[1m313/313\u001b[0m \u001b[32m━━━━━━━━━━━━━━━━━━━━\u001b[0m\u001b[37m\u001b[0m \u001b[1m0s\u001b[0m 1ms/step - accuracy: 0.1044 - loss: 59.9639\n",
            "Accuracy on adversarial examples (DeepFool): 0.0982000008225441\n"
          ]
        }
      ]
    },
    {
      "cell_type": "markdown",
      "source": [
        "## **Шаг 5: Сравнение результатов**\n",
        "Как и ожидали, что точность модели на противоречивых примерах, созданных с помощью атаки DeepFool, значительно снизилась по сравнению с чистыми данными. Это демонстрирует уязвимость модели перед атаками, даже если изменения в изображении минимальны."
      ],
      "metadata": {
        "id": "ja_gWGR5QA4I"
      }
    },
    {
      "cell_type": "markdown",
      "source": [
        "**Вывод:**\n",
        "\n",
        "Точность модели составила меньше 0.1%."
      ],
      "metadata": {
        "id": "Y3eBrYrpTExc"
      }
    }
  ]
}