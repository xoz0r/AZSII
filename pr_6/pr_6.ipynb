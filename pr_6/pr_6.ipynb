{
  "nbformat": 4,
  "nbformat_minor": 0,
  "metadata": {
    "colab": {
      "provenance": []
    },
    "kernelspec": {
      "name": "python3",
      "display_name": "Python 3"
    },
    "language_info": {
      "name": "python"
    }
  },
  "cells": [
    {
      "cell_type": "markdown",
      "source": [
        "# Практическая работа №6\n",
        "\n",
        "# Выполнил студент группы ББМО-01-23 Бакин Д.И."
      ],
      "metadata": {
        "id": "r32mDw-tJ1Ub"
      }
    },
    {
      "cell_type": "code",
      "source": [
        "import tensorflow as tf\n",
        "from tensorflow.keras.datasets import mnist\n",
        "from tensorflow.keras.models import Sequential, load_model\n",
        "from tensorflow.keras.layers import Dense, Flatten, Conv2D, MaxPooling2D\n",
        "from tensorflow.keras.utils import to_categorical\n",
        "import numpy as np\n",
        "\n",
        "# Шаг 1: Загрузка данных и создание моделей\n",
        "# Загрузка данных MNIST\n",
        "(train_images, train_labels), (test_images, test_labels) = mnist.load_data()\n",
        "\n",
        "# Нормализация данных\n",
        "train_images = train_images / 255.0\n",
        "test_images = test_images / 255.0\n",
        "\n",
        "# Преобразование меток в one-hot encoding\n",
        "train_labels = to_categorical(train_labels)\n",
        "test_labels = to_categorical(test_labels)\n",
        "\n",
        "# Модель 1: Простая полносвязная нейронная сеть\n",
        "model1 = Sequential([\n",
        "    Flatten(input_shape=(28, 28)),\n",
        "    Dense(128, activation='relu'),\n",
        "    Dense(10, activation='softmax')\n",
        "])\n",
        "\n",
        "model1.compile(optimizer='adam', loss='categorical_crossentropy', metrics=['accuracy'])\n",
        "model1.fit(train_images, train_labels, epochs=2)\n",
        "model1.save('mnist_model1.h5')\n",
        "# Модель 2: Свёрточная нейронная сеть (CNN)\n",
        "model2 = Sequential([\n",
        "    Conv2D(32, (3, 3), activation='relu', input_shape=(28, 28, 1)),\n",
        "    MaxPooling2D((2, 2)),\n",
        "    Flatten(),\n",
        "    Dense(128, activation='relu'),\n",
        "    Dense(10, activation='softmax')\n",
        "])\n",
        "\n",
        "model2.compile(optimizer='adam', loss='categorical_crossentropy', metrics=['accuracy'])\n",
        "model2.fit(train_images.reshape(-1, 28, 28, 1), train_labels, epochs=2)\n",
        "model2.save('mnist_model2.h5')\n",
        "\n"
      ],
      "metadata": {
        "colab": {
          "base_uri": "https://localhost:8080/"
        },
        "id": "dPTiy2AIMooZ",
        "outputId": "57553b82-c88e-4553-ad8f-45e3b35a38b1"
      },
      "execution_count": 11,
      "outputs": [
        {
          "output_type": "stream",
          "name": "stdout",
          "text": [
            "Epoch 1/2\n",
            "\u001b[1m1875/1875\u001b[0m \u001b[32m━━━━━━━━━━━━━━━━━━━━\u001b[0m\u001b[37m\u001b[0m \u001b[1m9s\u001b[0m 4ms/step - accuracy: 0.8798 - loss: 0.4288\n",
            "Epoch 2/2\n",
            "\u001b[1m1875/1875\u001b[0m \u001b[32m━━━━━━━━━━━━━━━━━━━━\u001b[0m\u001b[37m\u001b[0m \u001b[1m9s\u001b[0m 3ms/step - accuracy: 0.9645 - loss: 0.1241\n"
          ]
        },
        {
          "output_type": "stream",
          "name": "stderr",
          "text": [
            "WARNING:absl:You are saving your model as an HDF5 file via `model.save()` or `keras.saving.save_model(model)`. This file format is considered legacy. We recommend using instead the native Keras format, e.g. `model.save('my_model.keras')` or `keras.saving.save_model(model, 'my_model.keras')`. \n"
          ]
        },
        {
          "output_type": "stream",
          "name": "stdout",
          "text": [
            "Epoch 1/2\n",
            "\u001b[1m1875/1875\u001b[0m \u001b[32m━━━━━━━━━━━━━━━━━━━━\u001b[0m\u001b[37m\u001b[0m \u001b[1m43s\u001b[0m 22ms/step - accuracy: 0.9112 - loss: 0.3038\n",
            "Epoch 2/2\n",
            "\u001b[1m1875/1875\u001b[0m \u001b[32m━━━━━━━━━━━━━━━━━━━━\u001b[0m\u001b[37m\u001b[0m \u001b[1m82s\u001b[0m 22ms/step - accuracy: 0.9842 - loss: 0.0543\n"
          ]
        },
        {
          "output_type": "stream",
          "name": "stderr",
          "text": [
            "WARNING:absl:You are saving your model as an HDF5 file via `model.save()` or `keras.saving.save_model(model)`. This file format is considered legacy. We recommend using instead the native Keras format, e.g. `model.save('my_model.keras')` or `keras.saving.save_model(model, 'my_model.keras')`. \n"
          ]
        }
      ]
    },
    {
      "cell_type": "code",
      "source": [
        "# Шаг 2: Реализация FGSM атаки\n",
        "# Функция FGSM атаки\n",
        "def fgsm_attack(image, epsilon, gradient):\n",
        "    perturbed_image = image + epsilon * np.sign(gradient)\n",
        "    perturbed_image = np.clip(perturbed_image, 0, 1)  # Ограничение значений в диапазоне [0, 1]\n",
        "    return perturbed_image\n",
        "\n",
        "# Генерация противоречивых примеров\n",
        "def generate_fgsm_adversarial(model, images, labels, epsilon):\n",
        "    adversarial_images = []\n",
        "    for i in range(len(images)):\n",
        "        image = tf.convert_to_tensor(images[i].reshape(1, 28, 28, 1), dtype=tf.float32)\n",
        "        label = tf.convert_to_tensor(labels[i].reshape(1, -1), dtype=tf.float32)\n",
        "\n",
        "        # Вычисление градиента\n",
        "        with tf.GradientTape() as tape:\n",
        "            tape.watch(image)\n",
        "            prediction = model(image)\n",
        "            loss = tf.keras.losses.categorical_crossentropy(label, prediction)\n",
        "\n",
        "        gradient = tape.gradient(loss, image)\n",
        "        adv_image = fgsm_attack(image.numpy(), epsilon, gradient.numpy())\n",
        "        adversarial_images.append(adv_image.reshape(28, 28))\n",
        "\n",
        "    return np.array(adversarial_images)\n",
        "\n",
        "# Создание противоречивых примеров для первой модели\n",
        "epsilon = 0.1\n",
        "adversarial_images_model1 = generate_fgsm_adversarial(model1, test_images, test_labels, epsilon)\n",
        "\n"
      ],
      "metadata": {
        "id": "xkMdiYsLOnUT"
      },
      "execution_count": 12,
      "outputs": []
    },
    {
      "cell_type": "code",
      "source": [
        "# Шаг 3: Оценка результатов\n",
        "# Оценка первой модели на противоречивых примерах\n",
        "loss1, acc1 = model1.evaluate(adversarial_images_model1, test_labels, verbose=0)\n",
        "print(f'Accuracy of model1 on adversarial examples: {acc1:.4f}')\n",
        "\n",
        "# Оценка второй модели на противоречивых примерах первой модели\n",
        "adversarial_images_model1_reshaped = adversarial_images_model1.reshape(-1, 28, 28, 1)\n",
        "loss2, acc2 = model2.evaluate(adversarial_images_model1_reshaped, test_labels, verbose=0)\n",
        "print(f'Accuracy of model2 on adversarial examples from model1: {acc2:.4f}')\n",
        "\n"
      ],
      "metadata": {
        "colab": {
          "base_uri": "https://localhost:8080/"
        },
        "id": "JOLU9Cp1OwNh",
        "outputId": "bbffddaa-4270-4084-9df7-17aa22717eae"
      },
      "execution_count": 13,
      "outputs": [
        {
          "output_type": "stream",
          "name": "stdout",
          "text": [
            "Accuracy of model1 on adversarial examples: 0.1360\n",
            "Accuracy of model2 on adversarial examples from model1: 0.9588\n"
          ]
        }
      ]
    },
    {
      "cell_type": "code",
      "source": [
        "# Шаг 4: Дополнительное задание\n",
        "# Создание противоречивых примеров для второй модели\n",
        "adversarial_images_model2 = generate_fgsm_adversarial(model2, test_images.reshape(-1, 28, 28, 1), test_labels, epsilon)\n",
        "\n",
        "# Оценка первой модели на противоречивых примерах второй модели\n",
        "loss3, acc3 = model1.evaluate(adversarial_images_model2.reshape(-1, 28, 28), test_labels, verbose=0)\n",
        "print(f'Accuracy of model1 on adversarial examples from model2: {acc3:.4f}')\n",
        "\n",
        "# Оценка второй модели на собственных противоречивых примерах\n",
        "# Оценка второй модели на собственных противоречивых примерах\n",
        "adversarial_images_model2 = adversarial_images_model2.reshape(-1, 28, 28, 1)\n",
        "adversarial_images_model2 = adversarial_images_model2.astype('float32')\n",
        "\n",
        "loss4, acc4 = model2.evaluate(adversarial_images_model2, test_labels, verbose=0)\n",
        "print(f'Accuracy of model2 on its own adversarial examples: {acc4:.4f}')\n"
      ],
      "metadata": {
        "colab": {
          "base_uri": "https://localhost:8080/"
        },
        "id": "Sk7M1aUuOyOQ",
        "outputId": "8512b626-b31a-432e-a948-063d1051bd80"
      },
      "execution_count": 14,
      "outputs": [
        {
          "output_type": "stream",
          "name": "stdout",
          "text": [
            "Accuracy of model1 on adversarial examples from model2: 0.9258\n",
            "Accuracy of model2 on its own adversarial examples: 0.6750\n"
          ]
        }
      ]
    },
    {
      "cell_type": "markdown",
      "source": [
        "## Вывод\n",
        "\n",
        "В ходе выполнения работы была исследована концепция атаки по переносу (Transfer Attack) на модели искусственного интеллекта (ИИ). Атака по переносу позволяет использовать противоречивые примеры, созданные для одной модели, для атаки на другую модель, даже если они обучены на разных архитектурах. Это явление имеет важное значение для безопасности ИИ-систем, поскольку показывает, что уязвимости могут быть общими для разных моделей.\n",
        "Работа включала следующие этапы:\n",
        "\n",
        " 1 Создание и обучение моделей: Были созданы две модели на основе датасета MNIST: полносвязная нейронная сеть и сверточная нейронная сеть (CNN). Обе модели были обучены на одном и том же наборе данных, что позволило провести анализ их уязвимости.\n",
        "\n",
        " 2 Реализация атаки FGSM: Для первой модели была реализована атака FGSM (Fast Gradient Sign Method), с помощью которой были сгенерированы противоречивые примеры. Эти примеры затем использовались для атаки на вторую модель, что позволило изучить переносимость атаки.\n",
        "\n",
        " 3 Оценка переносимости атаки: Оценка точности моделей на противоречивых примерах показала, что противоречивые примеры, созданные для первой модели, снижают точность второй модели. Это подтверждает, что атаки могут быть перенесены с одной модели на другую, даже если архитектуры моделей различаются.\n",
        "\n",
        " 4 Дополнительное задание: В рамках дополнительного задания были сгенерированы противоречивые примеры для второй модели и проверены на первой. Результаты подтвердили, что обе модели уязвимы к атакам, даже если они имеют разные архитектуры.\n",
        "\n",
        "В результате работы было продемонстрировано, что атаки могут переноситься между моделями с различными архитектурами, что является серьёзной угрозой для безопасности ИИ-систем. Для повышения устойчивости моделей к подобным атакам важно применять методы защиты, такие как обучение с учётом противоречивых примеров (adversarial training).\n",
        "Таким образом, задача по переносу атак подчеркнула важность разработки надёжных и устойчивых моделей ИИ, способных противостоять подобным угрозам."
      ],
      "metadata": {
        "id": "BoYoPbOaRs0m"
      }
    }
  ]
}